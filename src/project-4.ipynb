{
 "cells": [
  {
   "cell_type": "markdown",
   "metadata": {
    "deletable": true,
    "editable": true
   },
   "source": [
    "* Compute the camera calibration matrix and distortion coefficients given a set of chessboard images.\n",
    "* Apply a distortion correction to raw images.\n",
    "* Use color transforms, gradients, etc., to create a thresholded binary image.\n",
    "* Apply a perspective transform to rectify binary image (\"birds-eye view\").\n",
    "* Detect lane pixels and fit to find the lane boundary.\n",
    "* Determine the curvature of the lane and vehicle position with respect to center.\n",
    "* Warp the detected lane boundaries back onto the original image.\n",
    "* Output visual display of the lane boundaries and numerical estimation of lane curvature and vehicle position."
   ]
  },
  {
   "cell_type": "code",
   "execution_count": 4,
   "metadata": {
    "collapsed": true
   },
   "outputs": [],
   "source": [
    "# Imports\n",
    "import numpy as np\n",
    "import cv2\n",
    "import glob\n",
    "import matplotlib.pyplot as plt\n",
    "%matplotlib qt"
   ]
  },
  {
   "cell_type": "code",
   "execution_count": 5,
   "metadata": {
    "collapsed": false,
    "deletable": true,
    "editable": true
   },
   "outputs": [],
   "source": [
    "### Calibrate the camera using chessboard images\n",
    "# The number of x corners in our calibration checkerboard\n",
    "nx = 9\n",
    "# The number of y corners in our calibration checkerboard\n",
    "ny = 6\n",
    "\n",
    "# Prepare object points, for the location of each corner (i.e. (0,0,0), (1,0,0), (2,0,0) ....,(6,5,0))\n",
    "objp = np.zeros(( ny * nx, 3), np.float32)\n",
    "objp[:,:2] = np.mgrid[0:nx,0:ny].T.reshape(-1,2)\n",
    "\n",
    "# Arrays to store object points and image points from all the images.\n",
    "objpoints = [] # 3d points in real world space\n",
    "imgpoints = [] # 2d points in image plane.\n",
    "\n",
    "# Make a list of calibration images\n",
    "images = glob.glob('../camera_cal/calibration*.jpg')\n",
    "\n",
    "gray_shape = []\n",
    "\n",
    "# Step through the list and search for chessboard corners\n",
    "for file_name in images:\n",
    "    img = cv2.imread(file_name)\n",
    "    gray = cv2.cvtColor(img, cv2.COLOR_BGR2GRAY)\n",
    "    gray_shape = gray.shape[::-1]\n",
    "    \n",
    "    # Find the chessboard corners\n",
    "    ret, corners = cv2.findChessboardCorners(gray, (nx, ny), None)\n",
    "\n",
    "    # If found, add object points, image points\n",
    "    if ret == True:\n",
    "        objpoints.append(objp)\n",
    "        imgpoints.append(corners)\n",
    "\n",
    "        # Draw and display the corners\n",
    "        img = cv2.drawChessboardCorners(img, (nx, ny), corners, ret)\n",
    "        \n",
    "        # TODO: save one or two of these images to then output for my writeup\n",
    "        # cv2.imshow('img',img)\n",
    "        # cv2.waitKey(500)\n",
    "\n",
    "# cv2.destroyAllWindows()\n",
    "\n",
    "# Calibrate the camera with all of the images and return these variables that will be used later on\n",
    "ret, mtx, dist, rvecs, tvecs = cv2.calibrateCamera(objpoints, imgpoints, gray_shape, None, None)"
   ]
  },
  {
   "cell_type": "code",
   "execution_count": 2,
   "metadata": {
    "collapsed": true
   },
   "outputs": [],
   "source": [
    "# Saving the undistorted images\n",
    "# counter = 1\n",
    "#for file in images:\n",
    "#    img = cv2.imread(file)\n",
    "#    img = cv2.undistort(img, mtx, dist, None, mtx)\n",
    "#    cv2.imwrite('undistorted-images/calibration' + str(counter) + '.jpg', img)\n",
    "#    counter += 1"
   ]
  },
  {
   "cell_type": "code",
   "execution_count": 41,
   "metadata": {
    "collapsed": true,
    "deletable": true,
    "editable": true
   },
   "outputs": [],
   "source": [
    "### Create a method to undistort\n",
    "# not including src and dst points since they are going to remain fixed based on where the camera is positioned and the image\n",
    "\n",
    "def undistort_and_warp(img, mtx, dist):\n",
    "    undistorted_img = cv2.undistort(img, mtx, dist, None, mtx)\n",
    "    \n",
    "    # keeping these as tight to the lines as possible because it pulls in a good amount in the surrounding part outside the lines\n",
    "    src = np.float32([\n",
    "        [236, 673],\n",
    "        [587, 450],\n",
    "        [688, 450],\n",
    "        [1056, 673]\n",
    "    ])\n",
    "    \n",
    "    # make sure this pulls the perspective \"apart\", it creates the paralell-ness and is really the key here\n",
    "    dst = np.float32([\n",
    "        [300, 720],\n",
    "        [300, 0],\n",
    "        [1000, 0],\n",
    "        [1000, 720]\n",
    "    ])\n",
    "    \n",
    "    # flip the image shape for warpPerspective\n",
    "    img_size = (img.shape[1], img.shape[0])\n",
    "    \n",
    "    M = cv2.getPerspectiveTransform(src, dst)\n",
    "        \n",
    "    warped = cv2.warpPerspective(undistorted_img, M, img_size, flags=cv2.INTER_LINEAR)\n",
    "    \n",
    "    return warped, M"
   ]
  },
  {
   "cell_type": "code",
   "execution_count": 43,
   "metadata": {
    "collapsed": false
   },
   "outputs": [],
   "source": [
    "# Save all the warped images\n",
    "#test_images = glob.glob('../test_images/test*.jpg')\n",
    "\n",
    "#counter = 1\n",
    "#for test_img in test_images:\n",
    "#    test_img = cv2.imread(test_img)\n",
    "#    top_down, perspective_M = undistort_and_warp(test_img, mtx, dist)\n",
    "#    cv2.imwrite('warped-images/test' + str(counter) + '.jpg', top_down)\n",
    "#    counter += 1"
   ]
  },
  {
   "cell_type": "code",
   "execution_count": null,
   "metadata": {
    "collapsed": true
   },
   "outputs": [],
   "source": []
  },
  {
   "cell_type": "code",
   "execution_count": null,
   "metadata": {
    "collapsed": true,
    "deletable": true,
    "editable": true
   },
   "outputs": [],
   "source": []
  }
 ],
 "metadata": {
  "anaconda-cloud": {},
  "kernelspec": {
   "display_name": "Python 3",
   "language": "python",
   "name": "python3"
  },
  "language_info": {
   "codemirror_mode": {
    "name": "ipython",
    "version": 3
   },
   "file_extension": ".py",
   "mimetype": "text/x-python",
   "name": "python",
   "nbconvert_exporter": "python",
   "pygments_lexer": "ipython3",
   "version": "3.5.2"
  },
  "widgets": {
   "state": {},
   "version": "1.1.2"
  }
 },
 "nbformat": 4,
 "nbformat_minor": 0
}
